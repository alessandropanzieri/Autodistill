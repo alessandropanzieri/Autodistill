{
  "nbformat": 4,
  "nbformat_minor": 0,
  "metadata": {
    "colab": {
      "provenance": []
    },
    "kernelspec": {
      "name": "python3",
      "display_name": "Python 3"
    },
    "language_info": {
      "name": "python"
    },
    "accelerator": "GPU",
    "gpuClass": "standard"
  },
  "cells": [
    {
      "cell_type": "code",
      "source": [
        "!gdown --id 1iuR63TuR2gPOY28aRnpEiifzDSyfXnpj"
      ],
      "metadata": {
        "id": "IfJ1a76bPytF"
      },
      "execution_count": null,
      "outputs": []
    },
    {
      "cell_type": "code",
      "source": [
        "!unzip -o datasets.zip"
      ],
      "metadata": {
        "id": "Pml0Ttp4QEN6"
      },
      "execution_count": null,
      "outputs": []
    },
    {
      "cell_type": "code",
      "source": [
        "!rm -rf datasets.zip"
      ],
      "metadata": {
        "id": "AhjkH4QoQpZ7"
      },
      "execution_count": 11,
      "outputs": []
    },
    {
      "cell_type": "code",
      "execution_count": null,
      "metadata": {
        "id": "X8iKDfKnPfnw"
      },
      "outputs": [],
      "source": [
        "!pip install rembg Cython ultralytics"
      ]
    },
    {
      "cell_type": "code",
      "source": [
        "from rembg import remove\n",
        "from pathlib import Path\n",
        "from cv2 import imread, threshold, findContours, RETR_CCOMP, THRESH_BINARY, CHAIN_APPROX_NONE\n",
        "\n",
        "for image in Path(\".\").glob(\"./datasets/images/*.*\"):\n",
        "\n",
        "    input = imread(str(image))\n",
        "    alpha = remove(input)[:, :, 3]\n",
        "\n",
        "    mask = threshold(alpha, 150, 255, THRESH_BINARY)[1]\n",
        "    contours = findContours(mask, RETR_CCOMP, CHAIN_APPROX_NONE)[0]\n",
        "\n",
        "    segmentation = []\n",
        "    for item in contours:\n",
        "        contour = item.flatten().tolist()\n",
        "        contour = [(contour[j], contour[j + 1]) for j in range(0, len(contour), 2)]\n",
        "        contour = [(x / input.shape[1], y / input.shape[0]) for x, y in contour]\n",
        "        segmentation += contour\n",
        "\n",
        "    with open(f\"./datasets/labels/{image.stem}.txt\", \"w\") as annotations:\n",
        "        annotations.write(f\"0 {' '.join([f'{x:.5f} {y:.5f}' for x, y in segmentation])}\")"
      ],
      "metadata": {
        "id": "uX537wcwPlRo"
      },
      "execution_count": null,
      "outputs": []
    },
    {
      "cell_type": "code",
      "source": [
        "from ultralytics import YOLO\n",
        "\n",
        "model = YOLO(\"yolov8n-seg.pt\")\n",
        "model.train(data = \"data.yaml\", epochs = 5)"
      ],
      "metadata": {
        "id": "IJd3VZK5d1uv"
      },
      "execution_count": null,
      "outputs": []
    },
    {
      "cell_type": "code",
      "source": [
        "from ultralytics import YOLO\n",
        "\n",
        "model = YOLO(\"model.pt\")\n",
        "results = model(\"test.jpg\")"
      ],
      "metadata": {
        "id": "cXfpelP8CLUO"
      },
      "execution_count": null,
      "outputs": []
    }
  ]
}