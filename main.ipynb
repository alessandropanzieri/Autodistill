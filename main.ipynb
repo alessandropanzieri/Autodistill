{
  "cells": [
    {
      "cell_type": "code",
      "execution_count": null,
      "metadata": {
        "vscode": {
          "languageId": "bat"
        }
      },
      "outputs": [],
      "source": [
        "pip install rembg ultralytics"
      ]
    },
    {
      "cell_type": "code",
      "execution_count": null,
      "metadata": {},
      "outputs": [],
      "source": [
        "from pathlib import Path\n",
        "from rembg import remove\n",
        "from cv2 import (\n",
        "    imread,\n",
        "    threshold,\n",
        "    RETR_CCOMP,\n",
        "    findContours,\n",
        "    THRESH_BINARY,\n",
        "    CHAIN_APPROX_NONE\n",
        ")\n",
        "\n",
        "for path in Path(\"./datasets/images\").glob(\"*.*\"):\n",
        "\n",
        "    image = imread(str(path))\n",
        "    alpha = remove(image)[:, :, 3]\n",
        "\n",
        "    detections = findContours(\n",
        "        threshold(alpha, 150, 255, THRESH_BINARY)[1],\n",
        "        RETR_CCOMP,\n",
        "        CHAIN_APPROX_NONE\n",
        "    )[0]\n",
        "\n",
        "    with open(f\"./datasets/labels/{path.stem}.txt\", \"w\") as annotations:\n",
        "        for detection in detections:\n",
        "            contour = detection.flatten().tolist()\n",
        "            coordinates = [(contour[i] / image.shape[1], contour[i + 1] / image.shape[0]) for i in range(0, len(contour), 2)]\n",
        "            annotations.write(f\"0 {' '.join([f'{x:.10f} {y:.10f}' for x, y in coordinates])}\\n\")"
      ]
    },
    {
      "cell_type": "code",
      "execution_count": null,
      "metadata": {
        "id": "IJd3VZK5d1uv"
      },
      "outputs": [],
      "source": [
        "from ultralytics import YOLO\n",
        "\n",
        "model = YOLO(\"./yolov8n-seg.pt\")\n",
        "model.train(data = \"./data.yaml\")\n",
        "\n",
        "model = YOLO(\"./runs/segment/train/weights/best.pt\")\n",
        "results = model(\"./test.jpg\")"
      ]
    }
  ],
  "metadata": {
    "accelerator": "GPU",
    "colab": {
      "provenance": []
    },
    "gpuClass": "standard",
    "kernelspec": {
      "display_name": "Python 3",
      "name": "python3"
    },
    "language_info": {
      "codemirror_mode": {
        "name": "ipython",
        "version": 3
      },
      "file_extension": ".py",
      "mimetype": "text/x-python",
      "name": "python",
      "nbconvert_exporter": "python",
      "pygments_lexer": "ipython3",
      "version": "3.9.13"
    }
  },
  "nbformat": 4,
  "nbformat_minor": 0
}
