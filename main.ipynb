{
  "cells": [
    {
      "cell_type": "code",
      "execution_count": null,
      "metadata": {
        "id": "X8iKDfKnPfnw",
        "vscode": {
          "languageId": "bat"
        }
      },
      "outputs": [],
      "source": [
        "pip install rembg Cython ultralytics"
      ]
    },
    {
      "cell_type": "code",
      "execution_count": null,
      "metadata": {
        "id": "uX537wcwPlRo",
        "tags": []
      },
      "outputs": [],
      "source": [
        "from rembg import remove\n",
        "from pathlib import Path\n",
        "from cv2 import imread, threshold, findContours, RETR_CCOMP, THRESH_BINARY, CHAIN_APPROX_NONE\n",
        "\n",
        "for image in Path(\".\").glob(\"./datasets/images/*.*\"):\n",
        "\n",
        "    input = imread(str(image))    \n",
        "    alpha = remove(input)[:, :, 3]\n",
        "\n",
        "    mask = threshold(alpha, 150, 255, THRESH_BINARY)[1]\n",
        "    contours = findContours(mask, RETR_CCOMP, CHAIN_APPROX_NONE)[0]\n",
        "\n",
        "    segmentation = []\n",
        "    for item in contours:\n",
        "        contour = item.flatten().tolist()\n",
        "        contour = [(contour[j], contour[j + 1]) for j in range(0, len(contour), 2)]\n",
        "        contour = [(x / input.shape[1], y / input.shape[0]) for x, y in contour]\n",
        "        segmentation += contour\n",
        "\n",
        "    with open(f\"./datasets/labels/{image.stem}.txt\", \"w\") as annotations:\n",
        "        annotations.write(f\"0 {' '.join([f'{x:.5f} {y:.5f}' for x, y in segmentation])}\")"
      ]
    },
    {
      "cell_type": "code",
      "execution_count": null,
      "metadata": {
        "id": "IJd3VZK5d1uv"
      },
      "outputs": [],
      "source": [
        "from ultralytics import YOLO\n",
        "\n",
        "model = YOLO(\"yolov8n-seg.pt\")\n",
        "model.train(data = \"data.yaml\")"
      ]
    },
    {
      "cell_type": "code",
      "execution_count": null,
      "metadata": {
        "id": "cXfpelP8CLUO"
      },
      "outputs": [],
      "source": [
        "from ultralytics import YOLO\n",
        "\n",
        "model = YOLO(\"runs/segment/train/weights/best.pt\")\n",
        "results = model(\"https://cdn.mos.cms.futurecdn.net/mhJ2yWNwMtNcmijZqVEDDW.jpg\")\n",
        "\n",
        "print(results[0].masks)"
      ]
    }
  ],
  "metadata": {
    "accelerator": "GPU",
    "colab": {
      "provenance": []
    },
    "gpuClass": "standard",
    "kernelspec": {
      "display_name": "Python 3",
      "name": "python3"
    },
    "language_info": {
      "codemirror_mode": {
        "name": "ipython",
        "version": 3
      },
      "file_extension": ".py",
      "mimetype": "text/x-python",
      "name": "python",
      "nbconvert_exporter": "python",
      "pygments_lexer": "ipython3",
      "version": "3.10.9"
    }
  },
  "nbformat": 4,
  "nbformat_minor": 0
}
