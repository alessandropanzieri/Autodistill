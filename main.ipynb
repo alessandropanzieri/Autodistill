{
 "cells": [
  {
   "cell_type": "code",
   "execution_count": null,
   "metadata": {
    "vscode": {
     "languageId": "bat"
    }
   },
   "outputs": [],
   "source": [
    "pip install Augmentor autodistill autodistill-grounded-sam autodistill-yolov8 opencv-python supervision"
   ]
  },
  {
   "cell_type": "code",
   "execution_count": null,
   "metadata": {},
   "outputs": [],
   "source": [
    "from Augmentor import Pipeline\n",
    "\n",
    "augment = Pipeline(\"./images\", \"augmented\")\n",
    "\n",
    "augment.sample()"
   ]
  },
  {
   "cell_type": "code",
   "execution_count": null,
   "metadata": {},
   "outputs": [],
   "source": [
    "from autodistill_grounded_sam import GroundedSAM\n",
    "from autodistill.detection import CaptionOntology\n",
    "\n",
    "annote = GroundedSAM(ontology = CaptionOntology({\"\": \"\"}))\n",
    "\n",
    "annote.label(\"./images/augmented\")"
   ]
  },
  {
   "cell_type": "code",
   "execution_count": null,
   "metadata": {},
   "outputs": [],
   "source": [
    "from autodistill_yolov8 import YOLOv8\n",
    "\n",
    "model = YOLOv8(\"\")\n",
    "model.train(\"./_labeled/data.yaml\")"
   ]
  },
  {
   "cell_type": "code",
   "execution_count": null,
   "metadata": {},
   "outputs": [],
   "source": [
    "predict = model.predict(\"./test.jpg\")[0]"
   ]
  },
  {
   "cell_type": "code",
   "execution_count": null,
   "metadata": {},
   "outputs": [],
   "source": [
    "from cv2 import imread, imwrite\n",
    "from supervision import Detections, MaskAnnotator\n",
    "\n",
    "imwrite(\"./test.jpg\",\n",
    "        MaskAnnotator().annotate(\n",
    "            scene = imread(\"./test.jpg\"),\n",
    "            detections = Detections.from_yolov8(predict),\n",
    "            opacity = 1.0\n",
    "))"
   ]
  }
 ],
 "metadata": {
  "kernelspec": {
   "display_name": "Python 3",
   "language": "python",
   "name": "python3"
  },
  "language_info": {
   "codemirror_mode": {
    "name": "ipython",
    "version": 3
   },
   "file_extension": ".py",
   "mimetype": "text/x-python",
   "name": "python",
   "nbconvert_exporter": "python",
   "pygments_lexer": "ipython3",
   "version": "3.11.4"
  },
  "orig_nbformat": 4
 },
 "nbformat": 4,
 "nbformat_minor": 2
}
